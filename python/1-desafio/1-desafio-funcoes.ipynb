{
 "cells": [
  {
   "cell_type": "markdown",
   "metadata": {
    "id": "nkmCfglvjCsd"
   },
   "source": [
    "# Desafio 1 - Gabriel Roger do Nascimento RM: 340399"
   ]
  },
  {
   "cell_type": "markdown",
   "metadata": {
    "id": "chzdB58mjCsm"
   },
   "source": [
    "### Conjectura de Legendre\n",
    "\n",
    "A Conjectura de Legendre, enunciada por de Adrien-Marie Legendre, afirma que existe sempre um número primo entre $n^2 $ e $(n+1)^2$, para qualquer $n$ inteiro positivo\n",
    "\n",
    "Seu desafio será criar uma função que, dado um input (inteiro n) retorne todos os números primos entre $n^2$ e $(n+1)^2$. \n",
    "\n",
    "Exemplo:\n",
    "\n",
    "    > input: 4\n",
    "    \n",
    "    > output: [17,19,23]"
   ]
  },
  {
   "cell_type": "code",
   "execution_count": 1,
   "metadata": {
    "id": "GQlacJu8jCsp"
   },
   "outputs": [],
   "source": [
    "def isprime(n):\n",
    "    \"\"\"\n",
    "    Esta função verifica se um número é ou não primo\n",
    "    \"\"\"\n",
    "    is_prime = True\n",
    "\n",
    "    for number in range(2, n):\n",
    "      if n % number == 0:\n",
    "        is_prime = False\n",
    "\n",
    "    return is_prime"
   ]
  },
  {
   "cell_type": "code",
   "execution_count": 2,
   "metadata": {
    "id": "lUiLKEYtjCsp"
   },
   "outputs": [],
   "source": [
    "def LegendreConjecture(n):\n",
    "    \"\"\"\n",
    "    Esta função calcula a conjectura de Legendre, como descrita acima\n",
    "    \"\"\"\n",
    "    return [value for value in range(n**2, (n+1)**2) if isprime(value)]\n",
    "      "
   ]
  },
  {
   "cell_type": "code",
   "execution_count": 3,
   "metadata": {
    "id": "Y48Db0QUxs3K"
   },
   "outputs": [],
   "source": [
    "conjectura = LegendreConjecture(4)"
   ]
  },
  {
   "cell_type": "code",
   "execution_count": 4,
   "metadata": {
    "colab": {
     "base_uri": "https://localhost:8080/"
    },
    "id": "5j9ReqCSzF70",
    "outputId": "36504299-a169-43e5-b9f8-4f0ac57a5a29"
   },
   "outputs": [
    {
     "name": "stdout",
     "output_type": "stream",
     "text": [
      "Os valores para a conjectura de legendre é: [17, 19, 23]\n"
     ]
    }
   ],
   "source": [
    "print(\"Os valores para a conjectura de legendre é:\", conjectura)"
   ]
  },
  {
   "cell_type": "markdown",
   "metadata": {
    "id": "5l8r2ZsCjCsq"
   },
   "source": [
    "## Classe de leitura de arquivo\n",
    "\n",
    "Crie uma classe que\n",
    "\n",
    "        > crie um método que tenta ler um arquivo de texto (.txt)\n",
    "        > crie um método usando regex para extrair datas do texto. Considere apenas os dois tipos: dd/mm/aaaa e d/m/aa\n",
    "        > crie um método que utilize Counter para contar a quantidade de cada caracter"
   ]
  },
  {
   "cell_type": "code",
   "execution_count": 5,
   "metadata": {
    "id": "z_pz3rl6xsdm"
   },
   "outputs": [],
   "source": [
    "import datetime\n",
    "import re\n",
    "from collections import Counter"
   ]
  },
  {
   "cell_type": "code",
   "execution_count": 22,
   "metadata": {
    "id": "408YPI2IjCsq"
   },
   "outputs": [],
   "source": [
    "class ExtractTextInformation:\n",
    "    \"\"\"classe que extrai informações de um texto.\n",
    "    \n",
    "    implementa o método __init__ e os três métodos acima mencionados \"\"\"\n",
    "\n",
    "    def __init__(self, text_file_name):\n",
    "      self.file_name = text_file_name\n",
    "      self.text = open(self.file_name + '.txt').read()\n",
    "\n",
    "    def get(self):\n",
    "      return self.text\n",
    "\n",
    "    def get_dates(self):\n",
    "      return re.findall(r'\\d{1,2}[\\/]\\d{1,2}[\\/]\\d{2,4}', self.text)\n",
    "\n",
    "    def word_count(self):\n",
    "      return Counter(self.text.split(' '))\n",
    "\n",
    "    def characters_count(self, common=None):\n",
    "        if common:\n",
    "            return Counter(self.text).most_common(5)\n",
    "        return Counter(self.text)\n",
    "\n",
    "    def convert_string_dates(self):\n",
    "      \"\"\"\n",
    "        convert data no formato '%d/%m/%Y' para datetime\n",
    "      \"\"\"\n",
    "      def validate(str_date):\n",
    "        try:\n",
    "          return datetime.datetime.strptime(str_date, '%d/%m/%Y')\n",
    "        except:\n",
    "          return (f'Please set the date {str_date} in this format %d/%m/%Y')\n",
    "\n",
    "      return [validate(str_date) for str_date in self.get_dates()] \n",
    "      "
   ]
  },
  {
   "cell_type": "code",
   "execution_count": 23,
   "metadata": {
    "id": "5H_EAyW4-Nwk"
   },
   "outputs": [],
   "source": [
    "text_information = ExtractTextInformation('oi')"
   ]
  },
  {
   "cell_type": "code",
   "execution_count": 24,
   "metadata": {
    "colab": {
     "base_uri": "https://localhost:8080/",
     "height": 126
    },
    "id": "rbcbSapGPBwj",
    "outputId": "4bd3391e-e451-4748-f7e6-be6576277903"
   },
   "outputs": [
    {
     "data": {
      "text/plain": [
       "'Sed Sed Sed ut 23/04/1996 23/04/1996 23/04/1992 perspiciatis unde omnis iste natus error 1/6/83 sit voluptatem accusantium doloremque 04/06/96 laudantium, totam rem aperiam, eaque ipsa quae ab illo inventore veritatis et quasi architecto beatae vitae dicta sunt explicabo. Nemo enim ipsam voluptatem quia voluptas sit aspernatur aut odit aut fugit, sed quia consequuntur magni dolores eos qui ratione voluptatem sequi nesciunt. Neque porro quisquam est, qui dolorem ipsum quia dolor sit amet, consectetur, adipisci velit, sed quia non numquam eius modi tempora incidunt ut labore et dolore magnam aliquam quaerat voluptatem. Ut enim ad minima veniam, quis nostrum exercitationem ullam corporis suscipit laboriosam, nisi ut aliquid ex ea commodi consequatur? Quis autem vel eum iure reprehenderit qui in ea voluptate velit esse quam nihil molestiae consequatur, vel illum qui dolorem dolorem dolorem dolorem eum fugiat quo voluptas nulla pariatur?\"'"
      ]
     },
     "execution_count": 24,
     "metadata": {},
     "output_type": "execute_result"
    }
   ],
   "source": [
    "text_information.get()"
   ]
  },
  {
   "cell_type": "code",
   "execution_count": 25,
   "metadata": {
    "colab": {
     "base_uri": "https://localhost:8080/"
    },
    "id": "tJszGy0wPELZ",
    "outputId": "5e6accb0-7120-439d-c1bf-dfd16aa678a0"
   },
   "outputs": [
    {
     "data": {
      "text/plain": [
       "['23/04/1996', '23/04/1996', '23/04/1992', '1/6/83', '04/06/96']"
      ]
     },
     "execution_count": 25,
     "metadata": {},
     "output_type": "execute_result"
    }
   ],
   "source": [
    "text_information.get_dates()"
   ]
  },
  {
   "cell_type": "code",
   "execution_count": 26,
   "metadata": {
    "colab": {
     "base_uri": "https://localhost:8080/"
    },
    "id": "stHULTDmUZC3",
    "outputId": "2b570647-c6a9-4bbf-9226-3524786e0d0f"
   },
   "outputs": [
    {
     "data": {
      "text/plain": [
       "Counter({'Sed': 3,\n",
       "         'ut': 3,\n",
       "         '23/04/1996': 2,\n",
       "         '23/04/1992': 1,\n",
       "         'perspiciatis': 1,\n",
       "         'unde': 1,\n",
       "         'omnis': 1,\n",
       "         'iste': 1,\n",
       "         'natus': 1,\n",
       "         'error': 1,\n",
       "         '1/6/83': 1,\n",
       "         'sit': 3,\n",
       "         'voluptatem': 3,\n",
       "         'accusantium': 1,\n",
       "         'doloremque': 1,\n",
       "         '04/06/96': 1,\n",
       "         'laudantium,': 1,\n",
       "         'totam': 1,\n",
       "         'rem': 1,\n",
       "         'aperiam,': 1,\n",
       "         'eaque': 1,\n",
       "         'ipsa': 1,\n",
       "         'quae': 1,\n",
       "         'ab': 1,\n",
       "         'illo': 1,\n",
       "         'inventore': 1,\n",
       "         'veritatis': 1,\n",
       "         'et': 2,\n",
       "         'quasi': 1,\n",
       "         'architecto': 1,\n",
       "         'beatae': 1,\n",
       "         'vitae': 1,\n",
       "         'dicta': 1,\n",
       "         'sunt': 1,\n",
       "         'explicabo.': 1,\n",
       "         'Nemo': 1,\n",
       "         'enim': 2,\n",
       "         'ipsam': 1,\n",
       "         'quia': 4,\n",
       "         'voluptas': 2,\n",
       "         'aspernatur': 1,\n",
       "         'aut': 2,\n",
       "         'odit': 1,\n",
       "         'fugit,': 1,\n",
       "         'sed': 2,\n",
       "         'consequuntur': 1,\n",
       "         'magni': 1,\n",
       "         'dolores': 1,\n",
       "         'eos': 1,\n",
       "         'qui': 4,\n",
       "         'ratione': 1,\n",
       "         'sequi': 1,\n",
       "         'nesciunt.': 1,\n",
       "         'Neque': 1,\n",
       "         'porro': 1,\n",
       "         'quisquam': 1,\n",
       "         'est,': 1,\n",
       "         'dolorem': 5,\n",
       "         'ipsum': 1,\n",
       "         'dolor': 1,\n",
       "         'amet,': 1,\n",
       "         'consectetur,': 1,\n",
       "         'adipisci': 1,\n",
       "         'velit,': 1,\n",
       "         'non': 1,\n",
       "         'numquam': 1,\n",
       "         'eius': 1,\n",
       "         'modi': 1,\n",
       "         'tempora': 1,\n",
       "         'incidunt': 1,\n",
       "         'labore': 1,\n",
       "         'dolore': 1,\n",
       "         'magnam': 1,\n",
       "         'aliquam': 1,\n",
       "         'quaerat': 1,\n",
       "         'voluptatem.': 1,\n",
       "         'Ut': 1,\n",
       "         'ad': 1,\n",
       "         'minima': 1,\n",
       "         'veniam,': 1,\n",
       "         'quis': 1,\n",
       "         'nostrum': 1,\n",
       "         'exercitationem': 1,\n",
       "         'ullam': 1,\n",
       "         'corporis': 1,\n",
       "         'suscipit': 1,\n",
       "         'laboriosam,': 1,\n",
       "         'nisi': 1,\n",
       "         'aliquid': 1,\n",
       "         'ex': 1,\n",
       "         'ea': 2,\n",
       "         'commodi': 1,\n",
       "         'consequatur?': 1,\n",
       "         'Quis': 1,\n",
       "         'autem': 1,\n",
       "         'vel': 2,\n",
       "         'eum': 2,\n",
       "         'iure': 1,\n",
       "         'reprehenderit': 1,\n",
       "         'in': 1,\n",
       "         'voluptate': 1,\n",
       "         'velit': 1,\n",
       "         'esse': 1,\n",
       "         'quam': 1,\n",
       "         'nihil': 1,\n",
       "         'molestiae': 1,\n",
       "         'consequatur,': 1,\n",
       "         'illum': 1,\n",
       "         'fugiat': 1,\n",
       "         'quo': 1,\n",
       "         'nulla': 1,\n",
       "         'pariatur?\"': 1})"
      ]
     },
     "execution_count": 26,
     "metadata": {},
     "output_type": "execute_result"
    }
   ],
   "source": [
    "text_information.word_count()"
   ]
  },
  {
   "cell_type": "code",
   "execution_count": 27,
   "metadata": {},
   "outputs": [
    {
     "data": {
      "text/plain": [
       "Counter({'S': 3,\n",
       "         'e': 82,\n",
       "         'd': 25,\n",
       "         ' ': 138,\n",
       "         'u': 69,\n",
       "         't': 65,\n",
       "         '2': 4,\n",
       "         '3': 4,\n",
       "         '/': 10,\n",
       "         '0': 5,\n",
       "         '4': 4,\n",
       "         '1': 4,\n",
       "         '9': 7,\n",
       "         '6': 5,\n",
       "         'p': 22,\n",
       "         'r': 41,\n",
       "         's': 43,\n",
       "         'i': 75,\n",
       "         'c': 19,\n",
       "         'a': 70,\n",
       "         'n': 35,\n",
       "         'o': 56,\n",
       "         'm': 46,\n",
       "         '8': 1,\n",
       "         'v': 15,\n",
       "         'l': 36,\n",
       "         'q': 26,\n",
       "         ',': 10,\n",
       "         'b': 5,\n",
       "         'h': 3,\n",
       "         'x': 3,\n",
       "         '.': 3,\n",
       "         'N': 2,\n",
       "         'f': 2,\n",
       "         'g': 4,\n",
       "         'U': 1,\n",
       "         '?': 2,\n",
       "         'Q': 1,\n",
       "         '\"': 1})"
      ]
     },
     "execution_count": 27,
     "metadata": {},
     "output_type": "execute_result"
    }
   ],
   "source": [
    "text_information.characters_count()"
   ]
  },
  {
   "cell_type": "code",
   "execution_count": 28,
   "metadata": {},
   "outputs": [
    {
     "data": {
      "text/plain": [
       "[(' ', 138), ('e', 82), ('i', 75), ('a', 70), ('u', 69)]"
      ]
     },
     "execution_count": 28,
     "metadata": {},
     "output_type": "execute_result"
    }
   ],
   "source": [
    "text_information.characters_count(common=True)"
   ]
  },
  {
   "cell_type": "code",
   "execution_count": 11,
   "metadata": {
    "colab": {
     "base_uri": "https://localhost:8080/"
    },
    "id": "nIoq2SFE3Zvd",
    "outputId": "fa1f777b-2394-49d6-ab74-40180290b243"
   },
   "outputs": [
    {
     "data": {
      "text/plain": [
       "[datetime.datetime(1996, 4, 23, 0, 0),\n",
       " datetime.datetime(1996, 4, 23, 0, 0),\n",
       " datetime.datetime(1992, 4, 23, 0, 0),\n",
       " 'Please set the date 1/6/83 in this format %d/%m/%Y',\n",
       " 'Please set the date 04/06/96 in this format %d/%m/%Y']"
      ]
     },
     "execution_count": 11,
     "metadata": {},
     "output_type": "execute_result"
    }
   ],
   "source": [
    "text_information.convert_string_dates()"
   ]
  },
  {
   "cell_type": "code",
   "execution_count": null,
   "metadata": {
    "id": "E2k9tqAE4dGt"
   },
   "outputs": [],
   "source": []
  }
 ],
 "metadata": {
  "colab": {
   "name": "desafio_1-rm340399-gabriel.ipynb",
   "provenance": [],
   "toc_visible": true
  },
  "kernelspec": {
   "display_name": "Python 3",
   "language": "python",
   "name": "python3"
  },
  "language_info": {
   "codemirror_mode": {
    "name": "ipython",
    "version": 3
   },
   "file_extension": ".py",
   "mimetype": "text/x-python",
   "name": "python",
   "nbconvert_exporter": "python",
   "pygments_lexer": "ipython3",
   "version": "3.8.8"
  }
 },
 "nbformat": 4,
 "nbformat_minor": 1
}
